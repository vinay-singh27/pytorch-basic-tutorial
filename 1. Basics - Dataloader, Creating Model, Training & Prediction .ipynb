{
 "cells": [
  {
   "cell_type": "code",
   "execution_count": 1,
   "id": "bcd11e48",
   "metadata": {},
   "outputs": [],
   "source": [
    "import torch\n",
    "from torch import nn\n",
    "from torch.utils.data import DataLoader\n",
    "from torchvision import datasets\n",
    "from torchvision.transforms import ToTensor, Lambda, Compose\n",
    "import matplotlib.pyplot as plt"
   ]
  },
  {
   "cell_type": "markdown",
   "id": "8d92d556",
   "metadata": {},
   "source": [
    "## Dataloader"
   ]
  },
  {
   "cell_type": "code",
   "execution_count": 2,
   "id": "1ba694dd",
   "metadata": {},
   "outputs": [],
   "source": [
    "train_data = datasets.FashionMNIST(root= 'data', train= True, download= True, transform = ToTensor())\n",
    "test_data = datasets.FashionMNIST(root= 'data', train= False, download= True, transform = ToTensor())"
   ]
  },
  {
   "cell_type": "code",
   "execution_count": 3,
   "id": "77193b65",
   "metadata": {},
   "outputs": [
    {
     "name": "stdout",
     "output_type": "stream",
     "text": [
      "Shape of X [N, C, H, W] : torch.Size([64, 1, 28, 28])\n",
      "Shape of y torch.Size([64]) torch.int64\n"
     ]
    }
   ],
   "source": [
    "#create dataloader\n",
    "batch_size = 64\n",
    "\n",
    "train_data_loaders = DataLoader(train_data, batch_size= batch_size, shuffle= True)\n",
    "test_data_loaders = DataLoader(test_data, batch_size= batch_size)\n",
    "\n",
    "for X, y in test_data_loaders :\n",
    "    print(f\"Shape of X [N, C, H, W] : {X.shape}\")\n",
    "    print(f\"Shape of y {y.shape} {y.dtype}\")\n",
    "    break"
   ]
  },
  {
   "cell_type": "code",
   "execution_count": 16,
   "id": "8d2d58c5",
   "metadata": {},
   "outputs": [
    {
     "data": {
      "text/plain": [
       "60000"
      ]
     },
     "execution_count": 16,
     "metadata": {},
     "output_type": "execute_result"
    }
   ],
   "source": []
  },
  {
   "cell_type": "markdown",
   "id": "2414f2fc",
   "metadata": {},
   "source": [
    "## Creating Models"
   ]
  },
  {
   "cell_type": "code",
   "execution_count": 4,
   "id": "8f772a98",
   "metadata": {},
   "outputs": [
    {
     "name": "stdout",
     "output_type": "stream",
     "text": [
      "Using device cuda\n"
     ]
    }
   ],
   "source": [
    "#Get CPU or GPU device for training\n",
    "device = \"cuda\" if torch.cuda.is_available() else 'cpu'\n",
    "print(f'Using device {device}')\n",
    "\n",
    "\n",
    "#Define the model\n",
    "\n",
    "class NeuralNetwork(nn.Module) :\n",
    "    \n",
    "    def __init__(self) :\n",
    "        \n",
    "        super(NeuralNetwork, self).__init__()\n",
    "        self.flatten = nn.Flatten()\n",
    "        \n",
    "        self.linear_relu_stack = nn.Sequential(\n",
    "            nn.Linear(in_features= 28*28, out_features= 512),\n",
    "            nn.ReLU(),\n",
    "            nn.Linear(in_features= 512, out_features=512),\n",
    "            nn.ReLU(),\n",
    "            nn.Linear(in_features= 512, out_features= 10),\n",
    "            nn.ReLU()\n",
    "        )\n",
    "        \n",
    "    def forward(self, x) :\n",
    "        x = self.flatten(x)\n",
    "        \n",
    "        logits = self.linear_relu_stack(x)\n",
    "        return logits\n",
    "    "
   ]
  },
  {
   "cell_type": "code",
   "execution_count": 5,
   "id": "fdba163f",
   "metadata": {},
   "outputs": [
    {
     "name": "stdout",
     "output_type": "stream",
     "text": [
      "NeuralNetwork(\n",
      "  (flatten): Flatten(start_dim=1, end_dim=-1)\n",
      "  (linear_relu_stack): Sequential(\n",
      "    (0): Linear(in_features=784, out_features=512, bias=True)\n",
      "    (1): ReLU()\n",
      "    (2): Linear(in_features=512, out_features=512, bias=True)\n",
      "    (3): ReLU()\n",
      "    (4): Linear(in_features=512, out_features=10, bias=True)\n",
      "    (5): ReLU()\n",
      "  )\n",
      ")\n"
     ]
    }
   ],
   "source": [
    "model = NeuralNetwork().to(device)\n",
    "print(model)"
   ]
  },
  {
   "cell_type": "markdown",
   "id": "83c5584b",
   "metadata": {},
   "source": [
    "## Optimizing Model Parameters"
   ]
  },
  {
   "cell_type": "code",
   "execution_count": 7,
   "id": "99264678",
   "metadata": {},
   "outputs": [],
   "source": [
    "loss_fn = nn.CrossEntropyLoss()\n",
    "optimizer = torch.optim.Adam(model.parameters(), lr= 0.001)"
   ]
  },
  {
   "cell_type": "code",
   "execution_count": 8,
   "id": "5fea4a7e",
   "metadata": {},
   "outputs": [],
   "source": [
    "def train(dataloader, model, loss_fn, optimizer) :\n",
    "    \n",
    "    size = len(dataloader.dataset) #total number of rows in dataset\n",
    "    '''tells your model that you are training the model. So effectively layers like dropout, batchnorm etc. \n",
    "    which behave different on the train and test procedures know what is going on and hence can behave accordingly.\n",
    "    '''\n",
    "    model.train() \n",
    "    for batch, (X,y) in enumerate(dataloader) :\n",
    "        X, y = X.to(device), y.to(device)\n",
    "        \n",
    "        # Compute prediction error\n",
    "        pred = model(X)\n",
    "        loss = loss_fn(pred, y)\n",
    "        \n",
    "        # Backpropagation\n",
    "        optimizer.zero_grad()\n",
    "        loss.backward()\n",
    "        optimizer.step()\n",
    "        \n",
    "        if batch % 100 == 0 :\n",
    "            loss, current = loss.item(), batch * len(X)\n",
    "            print(f\"loss: {loss:>7f}  [{current:>5d}/{size:>5d}]\")\n",
    "        "
   ]
  },
  {
   "cell_type": "code",
   "execution_count": 11,
   "id": "a19a855c",
   "metadata": {},
   "outputs": [],
   "source": [
    "def test(dataloader, model, loss_fn) :\n",
    "    \n",
    "    size = len(dataloader.dataset)  #total number of rows in dataset\n",
    "    num_batches = len(dataloader) #total number of batches in dataset\n",
    "    model.eval() # to tell that you are testing the model\n",
    "    test_loss, correct = 0, 0\n",
    "    with torch.no_grad() :\n",
    "        for X, y in dataloader :\n",
    "            X, y = X.to(device), y.to(device)\n",
    "            pred = model(X)\n",
    "            test_loss += loss_fn(pred,y).item()\n",
    "            correct += (pred.argmax(1) == y).type(torch.float).sum().item()\n",
    "    test_loss /= num_batches\n",
    "    correct /= size\n",
    "    print(f\"Test Error: \\n Accuracy: {(100*correct):>0.1f}%, Avg loss: {test_loss:>8f} \\n\")"
   ]
  },
  {
   "cell_type": "code",
   "execution_count": 14,
   "id": "603dfc4f",
   "metadata": {},
   "outputs": [
    {
     "data": {
      "text/plain": [
       "60000"
      ]
     },
     "execution_count": 14,
     "metadata": {},
     "output_type": "execute_result"
    }
   ],
   "source": []
  },
  {
   "cell_type": "code",
   "execution_count": 17,
   "id": "99d63cd8",
   "metadata": {
    "scrolled": true
   },
   "outputs": [
    {
     "name": "stdout",
     "output_type": "stream",
     "text": [
      "Epoch 1n-----------------------\n",
      "loss: 2.304558  [    0/60000]\n",
      "loss: 1.447910  [ 6400/60000]\n",
      "loss: 1.227303  [12800/60000]\n",
      "loss: 1.173591  [19200/60000]\n",
      "loss: 1.209198  [25600/60000]\n",
      "loss: 1.113881  [32000/60000]\n",
      "loss: 1.208611  [38400/60000]\n",
      "loss: 0.885400  [44800/60000]\n",
      "loss: 1.298644  [51200/60000]\n",
      "loss: 1.199545  [57600/60000]\n",
      "Test Error: \n",
      " Accuracy: 56.6%, Avg loss: 1.175118 \n",
      "\n",
      "Epoch 2n-----------------------\n",
      "loss: 1.070366  [    0/60000]\n",
      "loss: 1.215748  [ 6400/60000]\n",
      "loss: 1.060885  [12800/60000]\n",
      "loss: 0.973287  [19200/60000]\n",
      "loss: 1.035190  [25600/60000]\n",
      "loss: 1.029123  [32000/60000]\n",
      "loss: 1.161226  [38400/60000]\n",
      "loss: 1.398678  [44800/60000]\n",
      "loss: 1.088459  [51200/60000]\n",
      "loss: 1.233141  [57600/60000]\n",
      "Test Error: \n",
      " Accuracy: 55.8%, Avg loss: 1.192575 \n",
      "\n",
      "Epoch 3n-----------------------\n",
      "loss: 1.197509  [    0/60000]\n",
      "loss: 1.028413  [ 6400/60000]\n",
      "loss: 1.340223  [12800/60000]\n",
      "loss: 1.063067  [19200/60000]\n",
      "loss: 1.165577  [25600/60000]\n",
      "loss: 0.986293  [32000/60000]\n",
      "loss: 0.909631  [38400/60000]\n",
      "loss: 1.254118  [44800/60000]\n",
      "loss: 1.001806  [51200/60000]\n",
      "loss: 1.260038  [57600/60000]\n",
      "Test Error: \n",
      " Accuracy: 57.1%, Avg loss: 1.140733 \n",
      "\n",
      "Epoch 4n-----------------------\n",
      "loss: 1.064779  [    0/60000]\n",
      "loss: 1.044484  [ 6400/60000]\n",
      "loss: 1.116157  [12800/60000]\n",
      "loss: 1.212097  [19200/60000]\n",
      "loss: 1.222843  [25600/60000]\n",
      "loss: 1.215501  [32000/60000]\n",
      "loss: 0.908899  [38400/60000]\n",
      "loss: 0.928011  [44800/60000]\n",
      "loss: 1.201402  [51200/60000]\n",
      "loss: 1.310285  [57600/60000]\n",
      "Test Error: \n",
      " Accuracy: 57.3%, Avg loss: 1.126260 \n",
      "\n",
      "Epoch 5n-----------------------\n",
      "loss: 0.921834  [    0/60000]\n",
      "loss: 1.323661  [ 6400/60000]\n",
      "loss: 1.030259  [12800/60000]\n",
      "loss: 1.116801  [19200/60000]\n",
      "loss: 1.248842  [25600/60000]\n",
      "loss: 1.321973  [32000/60000]\n",
      "loss: 1.051836  [38400/60000]\n",
      "loss: 1.328649  [44800/60000]\n",
      "loss: 0.912821  [51200/60000]\n",
      "loss: 1.152311  [57600/60000]\n",
      "Test Error: \n",
      " Accuracy: 57.0%, Avg loss: 1.123350 \n",
      "\n",
      "Time Taken 0.6532756408055623\n",
      "Completed\n"
     ]
    }
   ],
   "source": [
    "import time\n",
    "start_time = time.time()\n",
    "epochs = 5\n",
    "for t in range(epochs) :\n",
    "    print(f'Epoch {t+1}\\n-----------------------')\n",
    "    train(train_data_loaders, model, loss_fn, optimizer)\n",
    "    test(test_data_loaders, model, loss_fn)\n",
    "    \n",
    "\n",
    "print(f'Time Taken {(time.time() - start_time)/60}')\n",
    "print('Completed')"
   ]
  },
  {
   "cell_type": "code",
   "execution_count": null,
   "id": "f18eedf5",
   "metadata": {},
   "outputs": [],
   "source": []
  },
  {
   "cell_type": "markdown",
   "id": "8ba785f0",
   "metadata": {},
   "source": [
    "## Saving & Loading the Model"
   ]
  },
  {
   "cell_type": "code",
   "execution_count": 18,
   "id": "41ae030d",
   "metadata": {},
   "outputs": [
    {
     "name": "stdout",
     "output_type": "stream",
     "text": [
      "Saved PyTorch Model State to model.pth\n"
     ]
    }
   ],
   "source": [
    "torch.save(model.state_dict(), 'model.pth')\n",
    "print(\"Saved PyTorch Model State to model.pth\")"
   ]
  },
  {
   "cell_type": "code",
   "execution_count": 19,
   "id": "ea941fc0",
   "metadata": {},
   "outputs": [
    {
     "data": {
      "text/plain": [
       "<All keys matched successfully>"
      ]
     },
     "execution_count": 19,
     "metadata": {},
     "output_type": "execute_result"
    }
   ],
   "source": [
    "#load the model\n",
    "model = NeuralNetwork()\n",
    "model.load_state_dict(torch.load('model.pth'))"
   ]
  },
  {
   "cell_type": "markdown",
   "id": "99b0c2eb",
   "metadata": {},
   "source": [
    "## Making Predictions"
   ]
  },
  {
   "cell_type": "code",
   "execution_count": 20,
   "id": "fe6698a9",
   "metadata": {},
   "outputs": [],
   "source": [
    "classes = [\n",
    "    \"T-shirt/top\",\n",
    "    \"Trouser\",\n",
    "    \"Pullover\",\n",
    "    \"Dress\",\n",
    "    \"Coat\",\n",
    "    \"Sandal\",\n",
    "    \"Shirt\",\n",
    "    \"Sneaker\",\n",
    "    \"Bag\",\n",
    "    \"Ankle boot\",\n",
    "]"
   ]
  },
  {
   "cell_type": "code",
   "execution_count": 22,
   "id": "085bfadd",
   "metadata": {},
   "outputs": [
    {
     "name": "stdout",
     "output_type": "stream",
     "text": [
      "Predicted: \"Ankle boot\", Actual: \"Ankle boot\"\n"
     ]
    }
   ],
   "source": [
    "model.eval()\n",
    "x, y = test_data[0][0], test_data[0][1]\n",
    "with torch.no_grad() :\n",
    "    pred = model(x)\n",
    "    predicted, actual = classes[pred[0].argmax(0)], classes[y]\n",
    "    print(f'Predicted: \"{predicted}\", Actual: \"{actual}\"')"
   ]
  },
  {
   "cell_type": "code",
   "execution_count": null,
   "id": "15aed8e1",
   "metadata": {},
   "outputs": [],
   "source": []
  }
 ],
 "metadata": {
  "kernelspec": {
   "display_name": "Python 3",
   "language": "python",
   "name": "python3"
  },
  "language_info": {
   "codemirror_mode": {
    "name": "ipython",
    "version": 3
   },
   "file_extension": ".py",
   "mimetype": "text/x-python",
   "name": "python",
   "nbconvert_exporter": "python",
   "pygments_lexer": "ipython3",
   "version": "3.9.5"
  },
  "toc": {
   "base_numbering": 1,
   "nav_menu": {},
   "number_sections": true,
   "sideBar": true,
   "skip_h1_title": false,
   "title_cell": "Table of Contents",
   "title_sidebar": "Contents",
   "toc_cell": false,
   "toc_position": {},
   "toc_section_display": true,
   "toc_window_display": false
  }
 },
 "nbformat": 4,
 "nbformat_minor": 5
}
